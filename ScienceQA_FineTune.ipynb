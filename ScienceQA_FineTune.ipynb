{
 "cells": [
  {
   "cell_type": "code",
   "execution_count": null,
   "id": "b1160003",
   "metadata": {},
   "outputs": [],
   "source": [
    "import torch\n",
    "from transformers import AutoModelForQuestionAnswering, AutoTokenizer, TrainingArguments, Trainer\n",
    "from datasets import load_dataset\n",
    "import evaluate\n",
    "import numpy as np"
   ]
  },
  {
   "cell_type": "code",
   "execution_count": null,
   "id": "083eec99",
   "metadata": {},
   "outputs": [],
   "source": [
    "# 1. Download Pretrained Model and Tokenizer\n",
    "model_name = \"distilbert-base-cased-distilled-squad\"  # Or \"bert-base-uncased\" for TinyBERT, but DistilBERT for QA\n",
    "tokenizer = AutoTokenizer.from_pretrained(model_name)\n",
    "model = AutoModelForQuestionAnswering.from_pretrained(model_name)"
   ]
  },
  {
   "cell_type": "code",
   "execution_count": null,
   "id": "9d75a225",
   "metadata": {},
   "outputs": [],
   "source": [
    "# 2. Download ScienceQA Dataset (Text Only)\n",
    "scienceqa = load_dataset(\"scienceqa\", \"text\")  # Load only the text portion"
   ]
  },
  {
   "cell_type": "code",
   "execution_count": null,
   "id": "de4ba3bd",
   "metadata": {},
   "outputs": [],
   "source": [
    "# 3. Data Preprocessing for Question Answering\n",
    "def preprocess_function(examples):\n",
    "    questions = [q.strip() for q in examples[\"question\"]]\n",
    "    inputs = tokenizer(\n",
    "        questions,\n",
    "        examples[\"context\"],\n",
    "        max_length=384,  # Adjust as needed\n",
    "        truncation=\"only_second\",  # Truncate context if too long\n",
    "        return_offsets_mapping=True,\n",
    "        padding=\"max_length\",\n",
    "    )\n",
    "\n",
    "    offset_mapping = inputs.pop(\"offset_mapping\")\n",
    "    answers = []\n",
    "    for i, offsets in enumerate(offset_mapping):\n",
    "        answer = examples[\"answer\"][i]\n",
    "        start_char = answer[\"text\"][0] # Corrected access\n",
    "        end_char = answer[\"text\"][-1] # Corrected access\n",
    "        start_token_idx = None\n",
    "        end_token_idx = None\n",
    "        for idx, (start, end) in enumerate(offsets):\n",
    "            if start <= start_char <= end:\n",
    "                start_token_idx = idx\n",
    "            if start <= end_char <= end:\n",
    "                end_token_idx = idx\n",
    "        if start_token_idx is None or end_token_idx is None:  # Handle cases where answer is not fully in context\n",
    "            answers.append({'start_positions': 0, 'end_positions': 0}) # Setting to 0 for CLS token\n",
    "            continue\n",
    "        answers.append({\n",
    "            'start_positions': start_token_idx,\n",
    "            'end_positions': end_token_idx,\n",
    "        })\n",
    "    inputs.update(answers)\n",
    "    return inputs"
   ]
  },
  {
   "cell_type": "code",
   "execution_count": null,
   "id": "7a3ccdb1",
   "metadata": {},
   "outputs": [],
   "source": [
    "processed_scienceqa = scienceqa.map(\n",
    "    preprocess_function,\n",
    "    batched=True,\n",
    "    remove_columns=scienceqa[\"train\"].column_names,\n",
    ")"
   ]
  },
  {
   "cell_type": "code",
   "execution_count": null,
   "id": "1f30cf6c",
   "metadata": {},
   "outputs": [],
   "source": [
    "# 4. Fine-tuning and Evaluation Metrics\n",
    "metric = evaluate.load(\"squad\")  # Use the SQuAD metric"
   ]
  },
  {
   "cell_type": "code",
   "execution_count": null,
   "id": "1ca29bf2",
   "metadata": {},
   "outputs": [],
   "source": [
    "def compute_metrics(p):\n",
    "    start_logits, end_logits = p.predictions\n",
    "    start_positions = p.label_ids[0]\n",
    "    end_positions = p.label_ids[1]\n",
    "    start_pred = np.argmax(start_logits, axis=-1)\n",
    "    end_pred = np.argmax(end_logits, axis=-1)\n",
    "\n",
    "    # Need to convert to a format that metric expects\n",
    "    formatted_predictions = []\n",
    "    formatted_references = []\n",
    "\n",
    "    for i in range(len(start_positions)):\n",
    "        prediction = {'prediction_text': tokenizer.decode(start_pred[i], end_pred[i]), 'id': str(i)}\n",
    "        reference = {'answers': [{'text': tokenizer.decode(start_positions[i], end_positions[i]), 'answer_start': 0}], 'id': str(i)}\n",
    "        formatted_predictions.append(prediction)\n",
    "        formatted_references.append(reference)\n",
    "\n",
    "    return metric.compute(predictions=formatted_predictions, references=formatted_references)"
   ]
  },
  {
   "cell_type": "code",
   "execution_count": null,
   "id": "d3bde4d4",
   "metadata": {},
   "outputs": [],
   "source": [
    "# Training Arguments\n",
    "training_args = TrainingArguments(\n",
    "    output_dir=\"./scienceqa-qa\",  # Output directory\n",
    "    evaluation_strategy=\"epoch\",  # Evaluation strategy\n",
    "    per_device_train_batch_size=8,  # Batch size (adjust based on resources)\n",
    "    per_device_eval_batch_size=8,\n",
    "    num_train_epochs=3,  # Number of training epochs\n",
    "    learning_rate=5e-5,  # Learning rate\n",
    "    weight_decay=0.01,  # Weight decay\n",
    "    warmup_steps=500,  # Warmup steps\n",
    "    fp16=True,  # Use mixed precision training if GPU supports it\n",
    "    push_to_hub=False, # Set to True to push to hub\n",
    ")"
   ]
  },
  {
   "cell_type": "code",
   "execution_count": null,
   "id": "ac57d422",
   "metadata": {},
   "outputs": [],
   "source": [
    "# Trainer\n",
    "trainer = Trainer(\n",
    "    model=model,\n",
    "    args=training_args,\n",
    "    train_dataset=processed_scienceqa[\"train\"],\n",
    "    eval_dataset=processed_scienceqa[\"validation\"], # Add validation set if available\n",
    "    tokenizer=tokenizer,\n",
    "    compute_metrics=compute_metrics,\n",
    ")"
   ]
  },
  {
   "cell_type": "code",
   "execution_count": null,
   "id": "c83e47d3",
   "metadata": {},
   "outputs": [],
   "source": [
    "# Fine-tune the model\n",
    "trainer.train()"
   ]
  },
  {
   "cell_type": "code",
   "execution_count": null,
   "id": "5572aec5",
   "metadata": {},
   "outputs": [],
   "source": [
    "# Save the fine-tuned model\n",
    "trainer.save_model(\"./scienceqa-qa-fine-tuned\") #save model"
   ]
  }
 ],
 "metadata": {
  "kernelspec": {
   "display_name": "Python 3",
   "language": "python",
   "name": "python3"
  },
  "language_info": {
   "codemirror_mode": {
    "name": "ipython",
    "version": 3
   },
   "file_extension": ".py",
   "mimetype": "text/x-python",
   "name": "python",
   "nbconvert_exporter": "python",
   "pygments_lexer": "ipython3",
   "version": "3.8.16"
  }
 },
 "nbformat": 4,
 "nbformat_minor": 5
}
