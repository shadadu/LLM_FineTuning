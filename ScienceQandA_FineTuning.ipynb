{
 "cells": [
  {
   "cell_type": "code",
   "execution_count": 1,
   "id": "135b9bd6",
   "metadata": {},
   "outputs": [],
   "source": [
    "import torch\n",
    "from transformers import AutoModelForQuestionAnswering, AutoTokenizer, TrainingArguments, Trainer\n",
    "from datasets import load_dataset\n",
    "\n",
    "# Load ScienceQA dataset (without streaming)\n",
    "dataset = load_dataset(\"derek-thomas/ScienceQA\", split={\"train\": \"train\", \"validation\": \"validation\"})\n",
    "\n",
    "# Use DistilBERT for Question Answering\n",
    "MODEL_NAME = \"distilbert-base-cased-distilled-squad\"\n",
    "tokenizer = AutoTokenizer.from_pretrained(MODEL_NAME)\n",
    "model = AutoModelForQuestionAnswering.from_pretrained(MODEL_NAME)"
   ]
  },
  {
   "cell_type": "code",
   "execution_count": 2,
   "id": "f2485f8c",
   "metadata": {},
   "outputs": [],
   "source": [
    "def preprocess_function(examples):\n",
    "    \"\"\"\n",
    "    Tokenizes the question and context, finds the correct answer in the context, \n",
    "    and creates labels for start and end positions.\n",
    "    \"\"\"\n",
    "    questions = examples[\"question\"]\n",
    "    contexts = examples[\"subject\"]\n",
    "    choices = examples[\"choices\"]\n",
    "#     answer_indices = examples[\"answer_index\"]\n",
    "\n",
    "    # Combine context and question\n",
    "    question_and_context = [\n",
    "        f\"Question: {q} Context: {c}\" for q, c in zip(questions, contexts)\n",
    "    ]\n",
    "\n",
    "    # Extract correct answer text using answer index\n",
    "#     answers_text = [\n",
    "#         a[idx] if 0 <= idx < len(a) else \"\" for a, idx in zip(choices, answer_indices)\n",
    "#     ]\n",
    "    \n",
    "    answers_text = []\n",
    "    questions = []\n",
    "    index = 0\n",
    "    for e in examples[\"question\"]:\n",
    "        choices = examples[\"choices\"][index]\n",
    "        question_and_choices = e +\" Choices are \"+ \", \".join(choices)+ \".\"\n",
    "#         print(f'question {question_and_choices}')\n",
    "        answer_index = examples[\"answer\"][index]\n",
    "        answer = choices[answer_index]\n",
    "#         print(f'ans: {answer}')\n",
    "        questions.append(question_and_choices)\n",
    "        answers_text.append(answer)\n",
    "#         question_answer_pairs.append({\"question\": question_and_choices, \n",
    "#                                      \"answer\": answer})\n",
    "        index+=1\n",
    "\n",
    "    # Tokenize\n",
    "    tokenized_inputs = tokenizer(\n",
    "        question_and_context, \n",
    "        padding=\"max_length\", \n",
    "        truncation=True, \n",
    "        max_length=384, \n",
    "        return_tensors=\"pt\"\n",
    "    )\n",
    "\n",
    "    # Find answer spans in the tokenized context\n",
    "    start_positions = []\n",
    "    end_positions = []\n",
    "\n",
    "    for i, (context, answer) in enumerate(zip(contexts, answers_text)):\n",
    "        start_index = context.find(answer)  # Find answer position in context\n",
    "        if start_index == -1:\n",
    "            start_positions.append(0)\n",
    "            end_positions.append(0)\n",
    "        else:\n",
    "            before_answer = tokenizer(context[:start_index], truncation=True, max_length=384)\n",
    "            answer_tokens = tokenizer(answer, truncation=True, max_length=384)\n",
    "            start_positions.append(len(before_answer[\"input_ids\"]) - 1)\n",
    "            end_positions.append(start_positions[-1] + len(answer_tokens[\"input_ids\"]) - 2)\n",
    "\n",
    "    # Add labels\n",
    "    tokenized_inputs[\"start_positions\"] = torch.tensor(start_positions)\n",
    "    tokenized_inputs[\"end_positions\"] = torch.tensor(end_positions)\n",
    "\n",
    "    return tokenized_inputs"
   ]
  },
  {
   "cell_type": "code",
   "execution_count": 3,
   "id": "9c0bc2ad",
   "metadata": {},
   "outputs": [],
   "source": [
    "# Apply preprocessing\n",
    "tokenized_dataset = dataset.map(preprocess_function, batched=True, remove_columns=dataset[\"train\"].column_names)\n",
    "\n",
    "# Convert to PyTorch dataset\n",
    "train_dataset = tokenized_dataset[\"train\"].with_format(\"torch\")\n",
    "valid_dataset = tokenized_dataset[\"validation\"].with_format(\"torch\")"
   ]
  },
  {
   "cell_type": "code",
   "execution_count": 4,
   "id": "ef01efa6",
   "metadata": {},
   "outputs": [
    {
     "name": "stderr",
     "output_type": "stream",
     "text": [
      "/Users/rckyi/miniforge3/envs/torch-gpu/lib/python3.8/site-packages/transformers/training_args.py:1568: FutureWarning: `evaluation_strategy` is deprecated and will be removed in version 4.46 of 🤗 Transformers. Use `eval_strategy` instead\n",
      "  warnings.warn(\n",
      "<ipython-input-4-0b6d6af23945>:19: FutureWarning: `tokenizer` is deprecated and will be removed in version 5.0.0 for `Trainer.__init__`. Use `processing_class` instead.\n",
      "  trainer = Trainer(\n",
      "max_steps is given, it will override any value given in num_train_epochs\n",
      "\u001b[34m\u001b[1mwandb\u001b[0m: \u001b[33mWARNING\u001b[0m The `run_name` is currently set to the same value as `TrainingArguments.output_dir`. If this was not intended, please specify a different run name by setting the `TrainingArguments.run_name` parameter.\n",
      "\u001b[34m\u001b[1mwandb\u001b[0m: Currently logged in as: \u001b[33mshaddie77\u001b[0m (\u001b[33mshaddie77-personal\u001b[0m) to \u001b[32mhttps://api.wandb.ai\u001b[0m. Use \u001b[1m`wandb login --relogin`\u001b[0m to force relogin\n",
      "\u001b[34m\u001b[1mwandb\u001b[0m: Using wandb-core as the SDK backend.  Please refer to https://wandb.me/wandb-core for more information.\n"
     ]
    },
    {
     "data": {
      "text/html": [
       "Tracking run with wandb version 0.19.6"
      ],
      "text/plain": [
       "<IPython.core.display.HTML object>"
      ]
     },
     "metadata": {},
     "output_type": "display_data"
    },
    {
     "data": {
      "text/html": [
       "Run data is saved locally in <code>/Users/rckyi/Documents/GitHub/LLM_FineTuning/wandb/run-20250212_120424-40cijata</code>"
      ],
      "text/plain": [
       "<IPython.core.display.HTML object>"
      ]
     },
     "metadata": {},
     "output_type": "display_data"
    },
    {
     "data": {
      "text/html": [
       "Syncing run <strong><a href='https://wandb.ai/shaddie77-personal/huggingface/runs/40cijata' target=\"_blank\">./scienceqa_finetuned</a></strong> to <a href='https://wandb.ai/shaddie77-personal/huggingface' target=\"_blank\">Weights & Biases</a> (<a href='https://wandb.me/developer-guide' target=\"_blank\">docs</a>)<br>"
      ],
      "text/plain": [
       "<IPython.core.display.HTML object>"
      ]
     },
     "metadata": {},
     "output_type": "display_data"
    },
    {
     "data": {
      "text/html": [
       " View project at <a href='https://wandb.ai/shaddie77-personal/huggingface' target=\"_blank\">https://wandb.ai/shaddie77-personal/huggingface</a>"
      ],
      "text/plain": [
       "<IPython.core.display.HTML object>"
      ]
     },
     "metadata": {},
     "output_type": "display_data"
    },
    {
     "data": {
      "text/html": [
       " View run at <a href='https://wandb.ai/shaddie77-personal/huggingface/runs/40cijata' target=\"_blank\">https://wandb.ai/shaddie77-personal/huggingface/runs/40cijata</a>"
      ],
      "text/plain": [
       "<IPython.core.display.HTML object>"
      ]
     },
     "metadata": {},
     "output_type": "display_data"
    },
    {
     "data": {
      "text/html": [
       "\n",
       "    <div>\n",
       "      \n",
       "      <progress value='100' max='100' style='width:300px; height:20px; vertical-align: middle;'></progress>\n",
       "      [100/100 04:57, Epoch 0/1]\n",
       "    </div>\n",
       "    <table border=\"1\" class=\"dataframe\">\n",
       "  <thead>\n",
       " <tr style=\"text-align: left;\">\n",
       "      <th>Epoch</th>\n",
       "      <th>Training Loss</th>\n",
       "      <th>Validation Loss</th>\n",
       "    </tr>\n",
       "  </thead>\n",
       "  <tbody>\n",
       "    <tr>\n",
       "      <td>0</td>\n",
       "      <td>No log</td>\n",
       "      <td>0.000061</td>\n",
       "    </tr>\n",
       "  </tbody>\n",
       "</table><p>"
      ],
      "text/plain": [
       "<IPython.core.display.HTML object>"
      ]
     },
     "metadata": {},
     "output_type": "display_data"
    },
    {
     "name": "stdout",
     "output_type": "stream",
     "text": [
      "Fine-tuning complete! Model saved at './scienceqa_finetuned_model'\n"
     ]
    }
   ],
   "source": [
    "# Define training arguments\n",
    "training_args = TrainingArguments(\n",
    "    output_dir=\"./scienceqa_finetuned\",\n",
    "    evaluation_strategy=\"epoch\",\n",
    "    save_strategy=\"epoch\",\n",
    "    per_device_train_batch_size=8,\n",
    "    per_device_eval_batch_size=8,\n",
    "    learning_rate=3e-5,\n",
    "    num_train_epochs=3,\n",
    "    weight_decay=0.01,\n",
    "    save_total_limit=2,\n",
    "    logging_dir=\"./logs\",\n",
    "    logging_steps=500,\n",
    "    fp16=torch.cuda.is_available(),\n",
    "    max_steps=100,  # Avoids trainer length error\n",
    ")\n",
    "\n",
    "# Initialize Trainer\n",
    "trainer = Trainer(\n",
    "    model=model,\n",
    "    args=training_args,\n",
    "    train_dataset=train_dataset,\n",
    "    eval_dataset=valid_dataset,\n",
    "    tokenizer=tokenizer,\n",
    ")\n",
    "\n",
    "# Fine-tune the model\n",
    "trainer.train()\n",
    "\n",
    "# Save the fine-tuned model\n",
    "trainer.save_model(\"./scienceqa_finetuned_model\")\n",
    "tokenizer.save_pretrained(\"./scienceqa_finetuned_model\")\n",
    "\n",
    "print(\"Fine-tuning complete! Model saved at './scienceqa_finetuned_model'\")\n"
   ]
  }
 ],
 "metadata": {
  "kernelspec": {
   "display_name": "Python 3",
   "language": "python",
   "name": "python3"
  },
  "language_info": {
   "codemirror_mode": {
    "name": "ipython",
    "version": 3
   },
   "file_extension": ".py",
   "mimetype": "text/x-python",
   "name": "python",
   "nbconvert_exporter": "python",
   "pygments_lexer": "ipython3",
   "version": "3.8.16"
  }
 },
 "nbformat": 4,
 "nbformat_minor": 5
}
